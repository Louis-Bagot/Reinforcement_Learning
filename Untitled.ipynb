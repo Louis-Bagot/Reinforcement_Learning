{
 "cells": [
  {
   "cell_type": "code",
   "execution_count": 1,
   "metadata": {},
   "outputs": [],
   "source": [
    "from utils import *\n",
    "import numpy as np\n",
    "import matplotlib\n",
    "matplotlib.use('agg')\n",
    "import matplotlib.pyplot as plt"
   ]
  },
  {
   "cell_type": "markdown",
   "metadata": {},
   "source": [
    "### Environment"
   ]
  },
  {
   "cell_type": "code",
   "execution_count": 2,
   "metadata": {},
   "outputs": [],
   "source": [
    "env_name = 'ShortcutMaze'"
   ]
  },
  {
   "cell_type": "markdown",
   "metadata": {},
   "source": [
    "### Loading things"
   ]
  },
  {
   "cell_type": "code",
   "execution_count": 36,
   "metadata": {},
   "outputs": [],
   "source": [
    "qleo = 'tabular/np_arrays/ExploreOption2/Inverse_sqrt/p_ex.npy'\n",
    "qlvc = 'tabular/np_arrays/QLearning_VC/Inverse_sqrt/betas.npy'\n",
    "qlo  = 'tabular/np_arrays/QLearning_Optimistic/optimistic_record.npy'\n",
    "ql   = 'tabular/np_arrays/QLearning/eps.npy'\n",
    "\n",
    "\n",
    "optimal   = np.load(qleo)[0] \n",
    "qleo_perf = np.load(qleo)[6] # cswitch = 15\n",
    "qlvc_perf = np.load(qlvc)[7] # beta = 0.1\n",
    "qlo_perf  = np.load(qlo) [2] # eps = 0.1\n",
    "ql_perf   = np.load(ql)  [2] # eps = 0.1"
   ]
  },
  {
   "cell_type": "markdown",
   "metadata": {},
   "source": [
    "### Titles and labels and stuff"
   ]
  },
  {
   "cell_type": "code",
   "execution_count": 85,
   "metadata": {},
   "outputs": [],
   "source": [
    "xlabel = '1000 Time steps'\n",
    "ylabel = \"Steps to goal\"\n",
    "suptitle = \"Agents Comparison\"\n",
    "title = 'lr=0.1, lrEO=0.001, eps=0.1, g=0.9, c_switch=15'\n",
    "\n",
    "launch_specs = 'all_agents'\n",
    "file_name = \"tabular/perf_plots/custom/{}/{}\".format(env_name, launch_specs)\n",
    "file_name += \".png\""
   ]
  },
  {
   "cell_type": "code",
   "execution_count": 86,
   "metadata": {},
   "outputs": [
    {
     "data": {
      "text/plain": [
       "<matplotlib.legend.Legend at 0x7f7136a49630>"
      ]
     },
     "execution_count": 86,
     "metadata": {},
     "output_type": "execute_result"
    }
   ],
   "source": [
    "y = np.arange(len(optimal))\n",
    "plt.plot(optimal, label='Optimal')\n",
    "plt.plot(ql_perf  , label='QL')\n",
    "plt.plot(qlo_perf  , label='QL_O')\n",
    "plt.plot(qlvc_perf, label='QL+VC')\n",
    "plt.plot(qleo_perf, label='QL+EO', linestyle='--')\n",
    "plt.axvline(300,color='red', lw=1)\n",
    "plt.xticks(list(np.arange(11)*100), [20*i for i in range(11)])\n",
    "plt.legend()"
   ]
  },
  {
   "cell_type": "code",
   "execution_count": 87,
   "metadata": {},
   "outputs": [
    {
     "data": {
      "text/plain": [
       "Text(0, 0.5, 'Steps to goal')"
      ]
     },
     "execution_count": 87,
     "metadata": {},
     "output_type": "execute_result"
    }
   ],
   "source": [
    "plt.suptitle(suptitle, fontsize=14, fontweight='bold')\n",
    "plt.title(title)\n",
    "plt.xlabel(xlabel)\n",
    "plt.ylabel(ylabel)"
   ]
  },
  {
   "cell_type": "code",
   "execution_count": 88,
   "metadata": {},
   "outputs": [
    {
     "name": "stdout",
     "output_type": "stream",
     "text": [
      "Saved figure to tabular/perf_plots/custom/ShortcutMaze/all_agents.png\n"
     ]
    }
   ],
   "source": [
    "ensure_dir(file_name)\n",
    "plt.savefig(file_name)\n",
    "print(\"Saved figure to\", file_name)\n",
    "plt.close()"
   ]
  }
 ],
 "metadata": {
  "kernelspec": {
   "display_name": "Python 3",
   "language": "python",
   "name": "python3"
  },
  "language_info": {
   "codemirror_mode": {
    "name": "ipython",
    "version": 3
   },
   "file_extension": ".py",
   "mimetype": "text/x-python",
   "name": "python",
   "nbconvert_exporter": "python",
   "pygments_lexer": "ipython3",
   "version": "3.7.3"
  }
 },
 "nbformat": 4,
 "nbformat_minor": 2
}
